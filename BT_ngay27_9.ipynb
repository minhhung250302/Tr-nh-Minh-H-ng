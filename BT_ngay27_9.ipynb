{
  "nbformat": 4,
  "nbformat_minor": 0,
  "metadata": {
    "colab": {
      "provenance": [],
      "collapsed_sections": [],
      "authorship_tag": "ABX9TyM1Nyp0LrGGHVeP6TEnqmbh",
      "include_colab_link": true
    },
    "kernelspec": {
      "name": "python3",
      "display_name": "Python 3"
    },
    "language_info": {
      "name": "python"
    }
  },
  "cells": [
    {
      "cell_type": "markdown",
      "metadata": {
        "id": "view-in-github",
        "colab_type": "text"
      },
      "source": [
        "<a href=\"https://colab.research.google.com/github/minhhung250302/Tr-nh-Minh-H-ng/blob/main/BT_ngay27_9.ipynb\" target=\"_parent\"><img src=\"https://colab.research.google.com/assets/colab-badge.svg\" alt=\"Open In Colab\"/></a>"
      ]
    },
    {
      "cell_type": "code",
      "execution_count": 1,
      "metadata": {
        "colab": {
          "base_uri": "https://localhost:8080/"
        },
        "id": "czm8o5qEsIb5",
        "outputId": "d61d0d9e-6aaf-40b1-8a4a-fd1d2d354898"
      },
      "outputs": [
        {
          "output_type": "stream",
          "name": "stdout",
          "text": [
            "Looking in indexes: https://pypi.org/simple, https://us-python.pkg.dev/colab-wheels/public/simple/\n",
            "Collecting scikit-fuzzy\n",
            "  Downloading scikit-fuzzy-0.4.2.tar.gz (993 kB)\n",
            "\u001b[K     |████████████████████████████████| 993 kB 2.1 MB/s \n",
            "\u001b[?25hRequirement already satisfied: numpy>=1.6.0 in /usr/local/lib/python3.7/dist-packages (from scikit-fuzzy) (1.21.6)\n",
            "Requirement already satisfied: scipy>=0.9.0 in /usr/local/lib/python3.7/dist-packages (from scikit-fuzzy) (1.7.3)\n",
            "Requirement already satisfied: networkx>=1.9.0 in /usr/local/lib/python3.7/dist-packages (from scikit-fuzzy) (2.6.3)\n",
            "Building wheels for collected packages: scikit-fuzzy\n",
            "  Building wheel for scikit-fuzzy (setup.py) ... \u001b[?25l\u001b[?25hdone\n",
            "  Created wheel for scikit-fuzzy: filename=scikit_fuzzy-0.4.2-py3-none-any.whl size=894089 sha256=caba36409156a7ec5561a798dcc870f752a28827a8a906212a5dd67f4d004143\n",
            "  Stored in directory: /root/.cache/pip/wheels/d5/74/fc/38588a3d2e3f34f74588e6daa3aa5b0a322bd6f9420a707131\n",
            "Successfully built scikit-fuzzy\n",
            "Installing collected packages: scikit-fuzzy\n",
            "Successfully installed scikit-fuzzy-0.4.2\n"
          ]
        }
      ],
      "source": [
        "pip install scikit-fuzzy"
      ]
    },
    {
      "cell_type": "markdown",
      "source": [
        "Bài 11"
      ],
      "metadata": {
        "id": "961Q4j087CAf"
      }
    },
    {
      "cell_type": "code",
      "source": [
        "from numpy.lib import tracemalloc_domain\n",
        "from networkx.generators.geometric import thresholded_random_geometric_graph\n",
        "import numpy as np\n",
        "import skfuzzy as fuzz\n",
        "from skfuzzy import control as ctrl\n",
        "thresholded_random_geometric_graph\n",
        "BMI =ctrl.Antecedent(np.arange(10,121,1),'BMI')\n",
        "Old =ctrl.Antecedent(np.arange(100,1001,1),'Old')\n",
        "=ctrl.Consequent(np.arange(0,101,1),'')\n",
        "Temp['very low']=fuzz.trimf(Temp.universe,[10,10,30])\n",
        "Temp['low']=fuzz.trimf(Temp.universe,[10,30,60])\n",
        "Temp['normal']=fuzz.trimf(Temp.universe,[30,60,90])\n",
        "Temp['high']=fuzz.trimf(Temp.universe,[60,90,120])\n",
        "Temp['very high']=fuzz.trimf(Temp.universe,[90,120,120])\n",
        "Wind['very low']=fuzz.trimf(Wind.universe,[100,100,300])\n",
        "Wind['low']=fuzz.trimf(Wind.universe,[100,300,500])\n",
        "Wind['normal']=fuzz.trimf(Wind.universe,[300,500,700])\n",
        "Wind['high']=fuzz.trimf(Wind.universe,[500,700,1000])\n",
        "Wind['very high']=fuzz.trimf(Wind.universe,[700,1000,1000])\n",
        "Rain['very low']=fuzz.trimf(Rain.universe,[20,40,60])\n",
        "Rain['low']=fuzz.trimf(Rain.universe,[40,60,80])\n",
        "Rain['normal']=fuzz.trimf(Rain.universe,[60,80,100])\n",
        "Rain['high']=fuzz.trimf(Rain.universe,[80,100,120])\n",
        "Rain['very high']=fuzz.trimf(Rain.universe,[100,120,140])\n",
        "\n",
        "rule1=ctrl.Rule(Temp['very low'] & Wind['very low'],Rain['very low'])\n",
        "rule2=ctrl.Rule(Temp['very low'] & Wind['low'],Rain['very low'])\n",
        "rule3=ctrl.Rule(Temp['very low'] & Wind['normal'],Rain['low'])\n",
        "rule4=ctrl.Rule(Temp['very low'] & Wind['high'],Rain['normal'])\n",
        "rule5=ctrl.Rule(Temp['very low'] & Wind['very high'],Rain['high'])\n",
        "rule6=ctrl.Rule(Temp['low'] & Wind['very low'],Rain['very low'])\n",
        "rule7=ctrl.Rule(Temp['low'] & Wind['low'],Rain['very low'])\n",
        "rule8=ctrl.Rule(Temp['low'] & Wind['normal'],Rain['normal'])\n",
        "rule9=ctrl.Rule(Temp['low'] & Wind['high'],Rain['normal'])\n",
        "rule10=ctrl.Rule(Temp['low'] & Wind['very high'],Rain['high'])\n",
        "rule11=ctrl.Rule(Temp['normal'] & Wind['very low'],Rain['low'])\n",
        "rule12=ctrl.Rule(Temp['normal'] & Wind['low'],Rain['normal'])\n",
        "rule13=ctrl.Rule(Temp['normal'] & Wind['normal'],Rain['normal'])\n",
        "rule14=ctrl.Rule(Temp['normal'] & Wind['high'],Rain['high'])\n",
        "rule15=ctrl.Rule(Temp['normal'] & Wind['very high'],Rain['high'])\n",
        "rule16=ctrl.Rule(Temp['high'] & Wind['very low'],Rain['normal'])\n",
        "rule17=ctrl.Rule(Temp['high'] & Wind['low'],Rain['high'])\n",
        "rule18=ctrl.Rule(Temp['high'] & Wind['normal'],Rain['high'])\n",
        "rule19=ctrl.Rule(Temp['high'] & Wind['high'],Rain['high'])\n",
        "rule20=ctrl.Rule(Temp['high'] & Wind['very high'],Rain['very high'])\n",
        "rule21=ctrl.Rule(Temp['very high'] & Wind['very low'],Rain['high'])\n",
        "rule22=ctrl.Rule(Temp['very high'] & Wind['low'],Rain['very high'])\n",
        "rule23=ctrl.Rule(Temp['very high'] & Wind['normal'],Rain['very high'])\n",
        "rule24=ctrl.Rule(Temp['very high'] & Wind['high'],Rain['very high'])\n",
        "rule25=ctrl.Rule(Temp['very high'] & Wind['very high'],Rain['very high'])\n",
        "cooking_ctrl=ctrl.ControlSystem([rule1,rule2,rule3,rule4,rule5,rule6,rule7,rule8,rule9,rule10,rule11,rule12,rule13,rule14,rule15,rule16,rule17,rule18,rule19,rule20,rule21,rule22,rule23,rule24,rule25])\n",
        "cooking=ctrl.ControlSystemSimulation(cooking_ctrl)\n",
        "cooking.input['Wind']=3.1\n",
        "cooking.input['Temp']=41.2\n",
        "cooking.compute()\n",
        "print(cooking.output[\"Rain\"])\n",
        "Rain.view(sim=cooking)\n"
      ],
      "metadata": {
        "colab": {
          "base_uri": "https://localhost:8080/",
          "height": 299
        },
        "id": "NtkFXw2UtSYb",
        "outputId": "bfc0301d-5f64-4edd-f139-70bda2d1585f"
      },
      "execution_count": 8,
      "outputs": [
        {
          "output_type": "stream",
          "name": "stdout",
          "text": [
            "47.94813214424318\n"
          ]
        },
        {
          "output_type": "display_data",
          "data": {
            "text/plain": [
              "<Figure size 432x288 with 1 Axes>"
            ],
            "image/png": "[encoded data removed]"
          },
          "metadata": {
            "needs_background": "light"
          }
        }
      ]
    },
    {
      "cell_type": "markdown",
      "source": [
        "bài 2"
      ],
      "metadata": {
        "id": "f-NyAbPd7D_4"
      }
    },
    {
      "cell_type": "code",
      "source": [
        "from numpy.lib import tracemalloc_domain\n",
        "from networkx.generators.geometric import thresholded_random_geometric_graph\n",
        "import numpy as np\n",
        "import skfuzzy as fuzz\n",
        "from skfuzzy import control as ctrl\n",
        "thresholded_random_geometric_graph\n",
        "\n",
        "\n"
      ],
      "metadata": {
        "id": "WRZvP4Wl5yAX"
      },
      "execution_count": null,
      "outputs": []
    }
  ]
}